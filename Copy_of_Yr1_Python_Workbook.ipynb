{
  "nbformat": 4,
  "nbformat_minor": 0,
  "metadata": {
    "colab": {
      "provenance": [],
      "include_colab_link": true
    },
    "kernelspec": {
      "name": "python3",
      "display_name": "Python 3"
    },
    "language_info": {
      "name": "python"
    }
  },
  "cells": [
    {
      "cell_type": "markdown",
      "metadata": {
        "id": "view-in-github",
        "colab_type": "text"
      },
      "source": [
        "<a href=\"https://colab.research.google.com/github/nandhinicodes1/Python/blob/main/Copy_of_Yr1_Python_Workbook.ipynb\" target=\"_parent\"><img src=\"https://colab.research.google.com/assets/colab-badge.svg\" alt=\"Open In Colab\"/></a>"
      ]
    },
    {
      "cell_type": "markdown",
      "source": [
        "## Introduction\n",
        "\n",
        "### To make your own copy of this notebook, go to File > Save a copy in Drive\n",
        "\n",
        "Hi!\n",
        "\n",
        "Welcome to the Jupyter Notebook for your Python for Chemists course.\n",
        "\n",
        "Below is a step by step guide through all of the programming concepts covered in lectures 2-4 of the course.\n",
        "\n",
        "In the kinetics workshop, you used a big chunk of code (included as an appendix at the bottom of this notebook) to process your kinetics data. In the lectures, Alan will go through each of the concepts one by one, so by the end you'll have everything you need to get started on your own projects, whatever they may be.\n",
        "\n",
        "You can follow along in the notebook while Alan lectures, and have a go at the challenges at a time that suits you.\n",
        "\n",
        "Some of the cells in the Notebook just contain text from me, but others contain executable (\"runnable\") snippets of Python code. Some of the program cells are there for demonstration: you can just click on the cell to select, then press the \"play\" button to run the code. Other program cells are intended for your use: have a go at the challenges before the lectures, and just play around!"
      ],
      "metadata": {
        "id": "nfWEEdBIgQ3m"
      }
    },
    {
      "cell_type": "markdown",
      "source": [
        "## 1. Hello World! (Defining Variables)\n",
        "\n"
      ],
      "metadata": {
        "id": "KA6VKH5fn1cz"
      }
    },
    {
      "cell_type": "markdown",
      "source": [
        "In the workshop, you saw that it takes quite a few logical steps to get from your raw laboratory data to the finished graphs. The first is to label and store all the information you have got so that you can tell your program what to do with it.\n",
        "\n",
        "A variable is what we use to do this. At its core, this just means \"value that can vary\" - but you can think of it in many ways. I think of it like a label on a box. When I define a variable, I'm taking a box, labelling it up, and neatly placing some information inside.\n",
        "\n",
        "e.g. `i = 500`, or `fit = True`\n",
        "\n",
        "We can check what's stored inside a variable using the `print` function:"
      ],
      "metadata": {
        "id": "MTwuB41ZntZK"
      }
    },
    {
      "cell_type": "code",
      "execution_count": null,
      "metadata": {
        "id": "pYH_SSoDgPtD",
        "outputId": "8106dc57-6f6f-460a-b4e7-ec1e1bb967d2",
        "colab": {
          "base_uri": "https://localhost:8080/"
        }
      },
      "outputs": [
        {
          "output_type": "stream",
          "name": "stdout",
          "text": [
            "hello world\n",
            "9\n"
          ]
        }
      ],
      "source": [
        "# Use of a hash here \"comments out\" what you've written so the computer doesn't read it as code when you ask the whole program to run.\n",
        "# You've seen this used, as is best practice, to describe the intended purpose of a section of code.\n",
        "# This helps any user to understand what's going on - both for using the code and for debugging.\n",
        "\n",
        "# The \"print\" function prints out whatever you tell it to using the syntax below:\n",
        "\n",
        "print(\"hello world\")\n",
        "\n",
        "# There, I gave \"print\" the information as a string to spit out directly.\n",
        "# The speech marks told \"print\" that the information I gave it was a string, so it didn't go looking for variables named \"hello\" and \"world\".\n",
        "# But, I can give print the name of a variable and it will spit out the contents of the variable:\n",
        "\n",
        "myvariable = 9 #I define my variable\n",
        "print(myvariable) #I ask \"print\" to print the information stored in my variable\n",
        "\n"
      ]
    },
    {
      "cell_type": "markdown",
      "source": [
        "Different types of variable contain different types of information. Here a basic few data types are given, but for more complex applications you may need more data types.\n",
        "\n",
        "- A `string` stores a series of characters in order (like a word or phrase). Strings can contain any character you want. Numbers can be part of a string, but python will just see the number as a character and not its value - so it can't do maths with it.\n",
        "\n",
        "  e.g. `string1 = \"Chemistry is Fun!\"`\n",
        "\n",
        "  e.g. `p = \"5\"`\n",
        "\n",
        "  The speech marks are what make these variables strings.\n",
        "\n",
        "- You can set **numeric types** of variable by assigning a value to them:\n",
        "\n",
        "  An `int` is an integer value. e.g. `i = 5` or `n = -3`\n",
        "\n",
        "  A `float` is a value that has any number of decimal places. e.g `m = -0.5` or `q = 32.98`\n",
        "\n",
        "- A **Boolean** type variable (`bool`) is like an on/off switch; the variable contains either `True` or `False`.\n",
        "\n",
        "  e.g. `switch2 = False`\n",
        "\n",
        "  e.g `flares_tonight = True`\n",
        "\n",
        "- An important **sequence type** to know is the `list`.\n",
        "\n",
        "\n",
        "\n",
        "Names for variables should make it clear what information is stored inside them. They can contain numbers but must contain at least one letter. No spaces or special characters apart from underscores, and be careful! Variable names are case sensitive (i.e. `Bananas` is different to `bananas`).\n",
        "\n",
        "Have a go at defining and printing your own variables below:"
      ],
      "metadata": {
        "id": "XBHDaO485ZZM"
      }
    },
    {
      "cell_type": "code",
      "source": [
        "#Click this cell to get started with typing in your code, and when you want to run it, press the \"play\" button on the left.\n",
        "#Don't worry if it doesn't work on the first go! Nothing will break and you can try again as many times as you like.\n",
        "\n",
        "#Try to define a few of your own variables and then print the information stored in them.\n",
        "\n",
        "\n",
        "\n",
        "\n"
      ],
      "metadata": {
        "id": "1c4VgpebHi_N"
      },
      "execution_count": null,
      "outputs": []
    },
    {
      "cell_type": "markdown",
      "source": [
        "## 2. Is That True? (`if` statements)\n",
        "\n"
      ],
      "metadata": {
        "id": "vltMp4P4IzQn"
      }
    },
    {
      "cell_type": "markdown",
      "source": [
        "Now that we've stored some of our information in variables, we can write code to carry out some tasks for us. But how does the computer know when to do each task?\n",
        "\n",
        "When you run a program, your computer will read the instructions you've given from top to bottom, one by one. This used to happen very literally (instructions were fed into early computers as holes punched into really long pieces of tape!).\n",
        "\n",
        "But what if you have a task that you only want the computer to do if some condition is met?\n",
        "\n",
        "e.g. \"only tell me I need an umbrella **if** it's raining outside\"?\n",
        "\n",
        "For that, we use `if` statements.\n",
        "\n",
        "e.g:"
      ],
      "metadata": {
        "id": "ZH4Bz67Qn5vl"
      }
    },
    {
      "cell_type": "code",
      "source": [
        "# See if you can predict what happens when you set my \"is_it_raining\" bool to True and to False.\n",
        "\n",
        "is_it_raining = True\n",
        "\n",
        "if is_it_raining == True:\n",
        "  print(\"you need an umbrella!\")"
      ],
      "metadata": {
        "id": "ZdSgleLmjhFE"
      },
      "execution_count": null,
      "outputs": []
    },
    {
      "cell_type": "markdown",
      "source": [
        "There are many different ways to phrase an `if` statement. The logic can get complicated: \"I need an umbrella if it's raining, but what if it's also storming so I can't go out at all? And what might I need if it's not raining, but sunny? Ahhhhhh!\"\n",
        "\n",
        "Here it's broken into steps.\n",
        "\n",
        "A basic `if` statement has two parts:\n",
        "\n",
        "`if some condition is true:`\n",
        "\n",
        "and\n",
        "\n",
        "`then do this task`.\n",
        "\n",
        "My condition above was \"It _is_ raining\", or: `is_it_raining == True`. The task to complete was \"tell me I need an umbrella\", or in Python: `print(\"you need an umbrella!\")`\n",
        "\n",
        "### Logical Conditions\n",
        "\n",
        "A **logical condition** is like saying in English: \"It is true that...\".\n",
        "\n",
        "| Python | It is true that... |\n",
        "|-|-|\n",
        "| a == b | a is equivalent to b\n",
        "| a != b | a is not equal to b\n",
        "\n",
        "If you test `==` on two things that are equivalent, it'll return `True`. If you test `==` on two things that aren't equivalent, it'll return `False`.\n",
        "\n",
        "> Note that `a==b` is **not** the same as `a=b`. This is important because a mix-up can change the meaning of your code! <br> <br> `a==b` (if it returns `True`) means \"It is true that the information represented by `a` is equivalent to the information represented by `b`\". <br> <br>`a=b` means \"Replace the information stored in `a` to make it the same as the information stored in `b`\".\n",
        "\n",
        "\n",
        "Have a play with logical conditions:"
      ],
      "metadata": {
        "id": "9V3gjxvhkeFd"
      }
    },
    {
      "cell_type": "code",
      "source": [
        "# Try defining some variables and seeing what Python thinks when you compare them.\n",
        "# I've put a couple of examples here, you do some more.\n",
        "\n",
        "i = 1\n",
        "\n",
        "print(i == True)\n",
        "print(i == False)\n",
        "\n",
        "a = 20\n",
        "b = 30\n",
        "\n",
        "print(a == b)\n",
        "print(a >= b)\n",
        "print(a != b)\n"
      ],
      "metadata": {
        "id": "D-9QZ34ixcIx"
      },
      "execution_count": null,
      "outputs": []
    },
    {
      "cell_type": "markdown",
      "source": [
        "Now we have logical conditions, we can build `if` statements that include tasks for the computer to do.\n",
        "\n",
        "e.g.\n"
      ],
      "metadata": {
        "id": "O2WWIc-s8H9t"
      }
    },
    {
      "cell_type": "code",
      "source": [
        "# Test what happens when you change the values of p and q.\n",
        "p = 4\n",
        "q = 4\n",
        "\n",
        "if p == q:\n",
        "  print(\"p is equal to q\")"
      ],
      "metadata": {
        "id": "s7LTAwAp8Xhd"
      },
      "execution_count": null,
      "outputs": []
    },
    {
      "cell_type": "markdown",
      "source": [
        "Now we can add in some more complexity. Use the below cell to test out how `and` and `or` work in Python:"
      ],
      "metadata": {
        "id": "SIos_q108-WL"
      }
    },
    {
      "cell_type": "code",
      "source": [
        "# I've put an example here.\n",
        "# See what happens when you mess with the weather, and then you can try out writing your own \"if\" statements using \"and\" and \"or\".\n",
        "\n",
        "# What's in the forecast for today?\n",
        "\n",
        "rain = True\n",
        "wind = True\n",
        "sun = True\n",
        "\n",
        "if sun == True:\n",
        "  print(\"bring sunscreen!\")\n",
        "\n",
        "if sun == False:\n",
        "  print(\"try and make the best of a grey day...\")\n",
        "\n",
        "if (rain == True) or (wind == True):\n",
        "  print(\"bring a jacket!\")\n",
        "\n",
        "if (rain == False) and (wind == False):\n",
        "  print(\"you should be alright without a jacket.\")"
      ],
      "metadata": {
        "id": "Hyjb5w6x9MFq"
      },
      "execution_count": null,
      "outputs": []
    },
    {
      "cell_type": "code",
      "source": [
        "# Now try using \"and\" and \"or\" in your own \"if\" statement! Use any idea you like, and you can use bools like me or try using other data types.\n",
        "\n",
        "\n",
        "\n",
        "\n"
      ],
      "metadata": {
        "id": "p8Idx4QsDC_e"
      },
      "execution_count": null,
      "outputs": []
    },
    {
      "cell_type": "markdown",
      "source": [
        "The same logic can be conveyed in different ways. You've just seen `and` and `or`, but we can also use `elif` and `else` to construct our `if` statements."
      ],
      "metadata": {
        "id": "bZ9HsPS8DVUz"
      }
    },
    {
      "cell_type": "code",
      "source": [
        "rain = True\n",
        "wind = True\n",
        "sun = True\n",
        "\n",
        "if sun == True:\n",
        "  print(\"bring sunscreen!\")\n",
        "else:\n",
        "  print(\"try and make the best of a grey day...\")\n",
        "\n",
        "if rain == True:\n",
        "  print(\"bring a jacket!\")\n",
        "elif wind == True:\n",
        "  print(\"bring a jacket!\")\n",
        "else:\n",
        "  print(\"you should be alright without a jacket.\")"
      ],
      "metadata": {
        "id": "3cKUcxZAEQNe"
      },
      "execution_count": null,
      "outputs": []
    },
    {
      "cell_type": "markdown",
      "source": [
        "In the above example, using `if`, then `elif`, then `else` translates into English as:\n",
        "\n",
        "If `rain` is True, then do x. Skip the rest of the `if` statement and move onto the rest of the program.\n",
        "\n",
        "If `rain` is not True, check if `wind` is true. If `wind` is True, then do y. Skip the rest of the `if` statement and move onto the rest of the program.\n",
        "\n",
        "Otherwise, do z. Now the `if` statement is finished. We move onto the rest of the program."
      ],
      "metadata": {
        "id": "JjRBEIYNH4ty"
      }
    },
    {
      "cell_type": "markdown",
      "source": [
        "Challenge:\n",
        "\n",
        "Have a look at both of the above \"weather\" examples. They work OK, but is there anything that seems a bit clunky? How would you improve the scripts to make something that works the same, but is more elegant and/or concise?\n",
        "\n",
        "Can you add some more weather conditions and combinations?"
      ],
      "metadata": {
        "id": "90-n2rWvJfjG"
      }
    },
    {
      "cell_type": "code",
      "source": [
        "# Use this cell to experiment with your own solution to \"what should I wear, given the weather forecast?\"\n",
        "# Feel free to paste my code in to change it, or to work from scratch if you feel like it.\n",
        "\n",
        "\n"
      ],
      "metadata": {
        "id": "x3Nte7wLX5_J"
      },
      "execution_count": null,
      "outputs": []
    },
    {
      "cell_type": "markdown",
      "source": [
        "## 3. Programming is Googling"
      ],
      "metadata": {
        "id": "64BVhsbEYZTr"
      }
    },
    {
      "cell_type": "markdown",
      "source": [
        "Genuinely. The experts do it constantly.\n",
        "\n",
        "Everybody uses the internet when they don't know where to go next. The key is knowing how to do so effectively.\n",
        "\n",
        "As a beginner, it can be quite daunting to look online for answers. But they are out there.\n",
        "\n",
        "It can often be useful to use **online tutorials** (recommend w3 schools, codecademy?) when looking for the answer to \"I want to do x, but don't know the syntax\".\n",
        "\n",
        "Online documentation for programming languages and for libraries (like numpy, see later) exists and is often useful. Sometimes the developers have left really lovely tutorials.\n",
        "\n",
        "If you google an error (just by pasting the error message and the language you're working with into google), many results will come up. Which one to choose?\n",
        "\n",
        "- Sites like geeksforgeeks may have articles describing and explaining your error. This might help understand why your error came up, and then how to fix it.\n",
        "\n",
        "- For specific errors or in scenarios where you're encountering a specific issue, the answer may be on an **online forum like StackOverflow**. Online communities like this can often be useful for answers, but I recommend against interacting with them beyond reading those answers - some users can be pretty hostile.\n",
        "\n",
        "- There is nothing wrong with looking at a resource, thinking \"whoa, that's complicated!\", and deciding to click off and find something explained in simpler terms.\n",
        "\n",
        "**Search engine operators** can help you get the right results:\n",
        "[Google Support](https://support.google.com/websearch/answer/2466433),\n",
        "[Ahrefs](https://ahrefs.com/blog/google-advanced-search-operators/)\n",
        "\n",
        "- Search for an exact match: Enter a word or phrase inside quotes. For example, *\\\"On the threshold of wisdom\\\"*.\n",
        "\n",
        "- Exclude words from your search: Enter - in front of a word that you want to leave out. For example, *jaguar speed -car*.\n",
        "\n",
        "- Search for a specific site: Enter \"site:\" in front of a site or domain. For example, *site:youtube.com cat videos*."
      ],
      "metadata": {
        "id": "miCvDue0Xz6a"
      }
    },
    {
      "cell_type": "markdown",
      "source": [
        "### What about AI?"
      ],
      "metadata": {
        "id": "TVUbKd5_YM6U"
      }
    },
    {
      "cell_type": "markdown",
      "source": [
        "A warning: At uni, using generative AI (like ChatGPT or GitHub copilot) to generate work for you in assessed exercises is very likely to be considered academic misconduct. If they can show that your use of AI constitutes \"false authorship\" (i.e. you didn't write your work on your own), they'll take it pretty seriously. [Guidance from the Uni](https://www.york.ac.uk/students/studying/assessment-and-examination/ai/).\n",
        "\n",
        "That being said, the line is blurry. Many developers routinely use generative AI like a fancier autocomplete - it can be a really useful tool! But they do so warily: the code produced by the AI can be pretty convincing and even accurate, but it's likely to contain many issues that will need to be fixed. As a beginner, these issues can be tricky to spot."
      ],
      "metadata": {
        "id": "QKn5ZlgyYKjP"
      }
    },
    {
      "cell_type": "markdown",
      "source": [
        "## 4. What could go wrong? (Dealing with errors and searching for answers)\n",
        "\n",
        "\n",
        "\n"
      ],
      "metadata": {
        "id": "-AtKqNehZrS6"
      }
    },
    {
      "cell_type": "markdown",
      "source": [
        "The point of this course is NOT for you to be able to sit and type out an entire program start to finish, with no mistakes or unpredicted issues. Nobody does that.\n",
        "\n",
        "In real life (as well as undergrad), programs are there to solve a problem or meet a need. The exact nature of the problem is almost never immediately clear, and is often subject to change. The way most programmers write their code is to have a go at solving small portions of the problem before adding the steps together. They encounter numerous issues along the way, which often amount to one of the following:\n",
        "\n",
        "- The problem is slightly different than expected\n",
        "\n",
        "- Computers have limited function so we have to work around what they can do\n",
        "\n",
        "- All humans are subject to silly errors (like forgetting punctuation).\n",
        "\n",
        "The first time anyone runs any program, they hope it goes right but expect it to go wrong. The only way to improve a program (and to learn!) is to encounter issues and then solve them."
      ],
      "metadata": {
        "id": "dWCcWQDIoKod"
      }
    },
    {
      "cell_type": "markdown",
      "source": [
        "### Python's thrown a load of errors!\n",
        "\n",
        "\n"
      ],
      "metadata": {
        "id": "xGzfmMoroqJQ"
      }
    },
    {
      "cell_type": "markdown",
      "source": [
        "This is normal.\n",
        "\n",
        "We could theoretically write instructions straight into the computer as 1s and 0s, but that isn't very user-friendly. Programming languages are the solution to this. We can now give the computer instructions in a language that's a little closer to English, so when our instructions have a mistake in them, it's easier for us humans to find.\n",
        "\n",
        "Another helpful thing that programming languages like Python do for us is to throw errors.\n",
        "\n",
        "When you run a program written in Python, it will go through your instructions one by one until either the program is finished, or Python encounters an error. If Python runs into an error, it immediately stops running the program. (This is really nice because some other languages will just encounter the problem, break, and still keep trying to limp to the end, possibly messing up other stuff in the process.)\n",
        "\n",
        "By this point, you've had a go at writing some of your own code. We have started fairly simple, but as the complexity of your code increases, so will the amount and complexity of the errors you encounter."
      ],
      "metadata": {
        "id": "muiAQG_jqCZM"
      }
    },
    {
      "cell_type": "markdown",
      "source": [
        "### What do the errors mean?\n"
      ],
      "metadata": {
        "id": "gE5QgG1brIeO"
      }
    },
    {
      "cell_type": "markdown",
      "source": [
        "When you run code that contains a line that Python can't make sense of, it'll throw an error."
      ],
      "metadata": {
        "id": "5yGLHUEzqIuX"
      }
    },
    {
      "cell_type": "code",
      "source": [
        "# Test what happens when we ask Python to do the mathematically impossible:\n",
        "\n",
        "a = 1\n",
        "b = 0\n",
        "\n",
        "print(a / b)"
      ],
      "metadata": {
        "id": "v4ImgI2pr6XK"
      },
      "execution_count": null,
      "outputs": []
    },
    {
      "cell_type": "markdown",
      "source": [
        "The error message contains:\n",
        "- What Python thinks is messed up\n",
        "- Where in your code (i.e. which line) Python encountered the error.\n",
        "\n",
        "Challenge: My code below isn't working! Can you work out how to fix it?"
      ],
      "metadata": {
        "id": "14Eq4_9Mt8yw"
      }
    },
    {
      "cell_type": "code",
      "source": [
        "# Try to predict what the error message might be, then run the code and see if you were right.\n",
        "# Then, debug my code! Fix the code so that it runs.\n",
        "# Historians please don't hurt me, I'm using the proleptic Gregorian calendar according to ISO 8601.\n",
        "\n",
        "year = 1900\n",
        "\n",
        "a = year/400\n",
        "b = year/100\n",
        "c = year/4\n",
        "\n",
        "# The meaning of\n",
        "\n",
        "if a = int(a):\n",
        "  print(\"This is a leap year! Bonus day!\")\n",
        "\n",
        "elif b = int(b)\n",
        "  print(\"Weirdly, years divisible by 100 but not 400 aren't leap years. It's 'cause an earth year isn't exactly 365.25 days. Just 365 days this year!\")\n",
        "\n",
        "else:\n",
        "  if C = int(C):\n",
        "    print(\"This is a leap year! Bonus day!\")\n",
        "  else:\n",
        "    print(\"This is just a regular year. 365 days only.\")\n",
        "\n",
        "\n",
        "\n",
        "\n"
      ],
      "metadata": {
        "id": "swgXjVUfvKLR"
      },
      "execution_count": null,
      "outputs": []
    },
    {
      "cell_type": "markdown",
      "source": [
        "Don't be discouraged if you fix one issue and another error pops up. That's normal. Remember that Python stops running when it sees its first error: so if you fix that, it can get further through the program on the next try and then find the next error. That's progress!"
      ],
      "metadata": {
        "id": "roLLAOXd7jqi"
      }
    },
    {
      "cell_type": "markdown",
      "source": [
        "## 5. Does It Add Up? (Starting to manipulate variables)\n"
      ],
      "metadata": {
        "id": "nwWbzdzPyE52"
      }
    },
    {
      "cell_type": "markdown",
      "source": [
        "I've only explicitly shown you the print function, but not the many other tasks that you can ask the computer to do.\n",
        "\n",
        "We can start to play around with the information stored in our variables using arithmetic operators:\n",
        "\n",
        "- adding: a = b + c\n",
        "- subtracting: a = b - c\n",
        "- multiplying: a = b * c\n",
        "- dividing: a = b / c\n",
        "- exponentiation a = b ** c\n",
        "- modulus a = b % c\n",
        "\n",
        "e.g."
      ],
      "metadata": {
        "id": "xHfkCwauu-o9"
      }
    },
    {
      "cell_type": "code",
      "source": [
        "# I want to find the combined volume of two cuboids.\n",
        "\n",
        "#Cuboid 1 has dimensions a x b x c\n",
        "\n",
        "a = 10\n",
        "b = 20\n",
        "c = 30\n",
        "\n",
        "#Cuboid 2 has dimensions d x e x f\n",
        "\n",
        "d = 15\n",
        "e = 3\n",
        "f = 40\n",
        "\n",
        "# I'll find their combined volume by finding their individual volumes and then adding them together.\n",
        "\n",
        "volume1 = a * b * c\n",
        "volume2 = d * e * f\n",
        "\n",
        "combined_volume = volume1 + volume2\n",
        "\n",
        "print(combined_volume)"
      ],
      "metadata": {
        "id": "vH34Gn5t3uVu"
      },
      "execution_count": null,
      "outputs": []
    },
    {
      "cell_type": "markdown",
      "source": [
        "Challenge: see if you can change the below copy of my cuboid volume calculator to calculate the volumes and surface areas of other shapes. What about a sphere with a cube-shaped cutout? Or two cylinders?"
      ],
      "metadata": {
        "id": "g7dGWzsQ5VAn"
      }
    },
    {
      "cell_type": "code",
      "source": [
        "# This cell is for you to mess with the code I've written. Feel very welcome to delete it all, rearrange it, and change anything you like.\n",
        "\n",
        "# Cuboid 1 has dimensions a x b x c\n",
        "\n",
        "a = 10\n",
        "b = 20\n",
        "c = 30\n",
        "\n",
        "# Cuboid 2 has dimensions d x e x f\n",
        "\n",
        "d = 15\n",
        "e = 3\n",
        "f = 40\n",
        "\n",
        "# I'll find their combined volume by finding their individual volumes and then adding them together.\n",
        "\n",
        "volume1 = a * b * c\n",
        "volume2 = d * e * f\n",
        "\n",
        "combined_volume = volume1 + volume2\n",
        "\n",
        "print(combined_volume)"
      ],
      "metadata": {
        "id": "yryruu3p53px"
      },
      "execution_count": null,
      "outputs": []
    },
    {
      "cell_type": "markdown",
      "source": [
        "Challenge: Now that you've seen more operators, see if you can make the above \"leap years\" code more concise. Did I need to define all those variables?\n",
        "\n",
        "Paste my code into the below cell and have a go."
      ],
      "metadata": {
        "id": "QP76qwnHESap"
      }
    },
    {
      "cell_type": "code",
      "source": [
        "#Paste my code here, then change whatever you like!\n",
        "\n"
      ],
      "metadata": {
        "id": "gTqJrJmBEtBx"
      },
      "execution_count": null,
      "outputs": []
    },
    {
      "cell_type": "markdown",
      "source": [
        "Challenge: What does the code that I've written do? Can you comment the code to make it clearer?"
      ],
      "metadata": {
        "id": "ZhxugNqYRu4S"
      }
    },
    {
      "cell_type": "code",
      "source": [
        "\n",
        "module_1 = 0\n",
        "module_2 = 100\n",
        "module_3 = 100\n",
        "module_4 = 100\n",
        "module_5 = 100\n",
        "module_6 = 50\n",
        "\n",
        "final_grade = (module_1 + module_2 + module_3 + module_4 + module_5 + module_6)/6\n",
        "\n",
        "print(\"your grade for the year is\")\n",
        "print(final_grade)\n",
        "\n",
        "if final_grade <= 40:\n",
        "\n",
        "  print (\"you're in danger of failing the year. You'll need to resit exams.\")\n",
        "\n",
        "elif final_grade <= 60:\n",
        "\n",
        "  print (\"C's get degrees, and it's not easy to be a chemist... nice job passing!\")\n",
        "\n",
        "elif final_grade <= 70:\n",
        "  print(\"congrats! A 2:1 is impressive!\")\n",
        "\n",
        "else:\n",
        "  print(\"wow! a 1st! That's a lot of hard work, good job.\")\n"
      ],
      "metadata": {
        "id": "iKSfASIXSlkH"
      },
      "execution_count": null,
      "outputs": []
    },
    {
      "cell_type": "markdown",
      "source": [
        "## 6. More Efficiency Needed (Defining and Calling Functions)\n",
        "\n"
      ],
      "metadata": {
        "id": "8mCi6ygivvwn"
      }
    },
    {
      "cell_type": "markdown",
      "source": [
        "### Everything takes ages"
      ],
      "metadata": {
        "id": "BREARwexrBjF"
      }
    },
    {
      "cell_type": "markdown",
      "source": [
        "When programming to solve a larger or more complex problem, it can get tedious to individually program every single step - especially if steps are often repeated.\n",
        "\n",
        "For example, if I needed to write some code to find the volume of just one cube, that would be no problem:"
      ],
      "metadata": {
        "id": "UcswDN4oq6bF"
      }
    },
    {
      "cell_type": "code",
      "source": [
        "# When the problem is a simple one with few steps, we can get away with code that only works for that exact use.\n",
        "\n",
        "side_length = 4\n",
        "\n",
        "cube_volume = side_length ** 3"
      ],
      "metadata": {
        "id": "EjZZyFSEx0xr"
      },
      "execution_count": null,
      "outputs": []
    },
    {
      "cell_type": "markdown",
      "source": [
        "But what if I need to do the same thing multiple times across a project?\n",
        "\n",
        "e.g. Find the volume of a tower block made up of cuboids:"
      ],
      "metadata": {
        "id": "VYMqUu7EzZQD"
      }
    },
    {
      "cell_type": "code",
      "source": [
        "# I could approach this with brute force and a load of repeated code:\n",
        "\n",
        "# Volume of rooms:\n",
        "\n",
        "a = 1\n",
        "b = 2\n",
        "c = 3\n",
        "\n",
        "room_1 = a*b*c\n",
        "\n",
        "d = 2\n",
        "e = 3\n",
        "f = 4\n",
        "\n",
        "room_2 = d*e*f\n",
        "\n",
        "g = 3\n",
        "h = 2\n",
        "i = 5\n",
        "\n",
        "room_3 = g*h*i\n",
        "\n",
        "j = 1\n",
        "k = 6\n",
        "l = 2\n",
        "\n",
        "room_4 = j*k*l\n",
        "\n",
        "total_volume = room_1 + room_2 + room_3 + room_4\n",
        "print(\"The total volume is\", total_volume)"
      ],
      "metadata": {
        "id": "SCD_ULzo1_5q"
      },
      "execution_count": null,
      "outputs": []
    },
    {
      "cell_type": "markdown",
      "source": [
        "But that's pretty inefficient. And what if I suddenly need to find the volume of a tower block with 20 rooms? It feels a little silly to sit and tap out the same code over and over.\n",
        "\n"
      ],
      "metadata": {
        "id": "80w_PksW3Ii4"
      }
    },
    {
      "cell_type": "markdown",
      "source": [
        "### So what's the solve?\n",
        "\n"
      ],
      "metadata": {
        "id": "5yWQc2eMnAUv"
      }
    },
    {
      "cell_type": "markdown",
      "source": [
        "A function is a piece of code that only runs when it is called. Python has loads of built-in functions which we use very often:\n",
        "\n",
        "- e.g. `print()`, which you know is a function which prints whatever's in the brackets.\n",
        "\n",
        "We can write our own functions to do any task that gets repeated often in our code. Then whenever the task needs doing, we don't have to type out the same code all over again - we can just call the function!\n",
        "\n",
        "Functions are useful because they reuse one piece of code, which reduces the need to repeatedly write it out. This makes our work more readable, because there's less redundant code.\n",
        "\n",
        "Let's try the same cuboid problem using a function. I'll write a function to find the area of a room, and then we'll see if we can use it to make our code more elegant."
      ],
      "metadata": {
        "id": "EEFPNlRzs4wH"
      }
    },
    {
      "cell_type": "code",
      "source": [
        "# I'm going to define a function that finds the volume of a room, given its width, length, and height:\n",
        "\n",
        "def room_volume(w,l,h):\n",
        "  return w*l*h\n",
        "\n",
        "# So given three parameters (w, l, and h), the function will return one value (the volume of the room).\n",
        "\n",
        "# Now I can call the function, and my program will apply the instructions within it (\"execute\" the function).\n",
        "# I tell the function what the dimensions of the room are by \"passing arguments to it\".\n",
        "\n",
        "total_volume = room_volume(1,2,3) + room_volume(2,3,4) + room_volume(3,2,5) + room_volume(1,6,2)\n",
        "\n",
        "print(\"The total volume is\", total_volume)"
      ],
      "metadata": {
        "id": "eYgGEEy63wyp"
      },
      "execution_count": null,
      "outputs": []
    },
    {
      "cell_type": "markdown",
      "source": [
        "Above, I did the following steps:\n",
        "\n",
        "- define a function by writing `def function_name(parameters):` and `return output`,\n",
        "\n",
        "- call the function by writing `function_name()`,\n",
        "\n",
        "- pass arguments to the function by putting numbers in the brackets, i.e. `function_name(arg1, arg2, arg3)`,\n",
        "\n",
        "- use the output of the function (what the function \"returned\") for something useful in my program, e.g. summing the outputs of the functions, or printing a function's output.\n",
        "\n",
        "\n",
        "When python sees a function being called, it jumps up to where the function was defined, then continues from there until it sees `return`. It then jumps back down to the line where the function was called."
      ],
      "metadata": {
        "id": "E9cmlsxkWncg"
      }
    },
    {
      "cell_type": "markdown",
      "source": [
        "### Arguments"
      ],
      "metadata": {
        "id": "3zDXRQejqr_y"
      }
    },
    {
      "cell_type": "markdown",
      "source": [
        "- Arguments that you pass to the function can be any data type. But your function will be upset if you pass it\n",
        "  - the wrong amount of arguments, or\n",
        "  - arguments that aren't compatible with the instructions in your function:\n",
        "\n",
        "e.g."
      ],
      "metadata": {
        "id": "rTkEqp4SllR1"
      }
    },
    {
      "cell_type": "code",
      "source": [
        "# I'll define a function that expects to receive 2 arguments:\n",
        "\n",
        "def my_function(a,b):\n",
        "  return a-b\n",
        "\n",
        "# Then we'll see what happens when we pass it the wrong number of arguments.\n",
        "\n",
        "print(my_function(3,2)) # Hopefully this should work\n",
        "\n",
        "print(my_function(3,2,1)) # Comment this out using a hash to see the error that the next line produces\n",
        "\n",
        "print(my_function(2))\n",
        "\n",
        "print(my_function(\"oranges\", \"lemons\"))"
      ],
      "metadata": {
        "id": "td5qlWOnl9bd"
      },
      "execution_count": null,
      "outputs": []
    },
    {
      "cell_type": "markdown",
      "source": [
        "### Scope - What happens in the function, stays in the function"
      ],
      "metadata": {
        "id": "P_zA85hMqwh2"
      }
    },
    {
      "cell_type": "markdown",
      "source": [
        "Variables that are defined in a function only exist inside that function. They're within the local scope of that function, and are unavailable outside of it.\n",
        "\n",
        "At least for most of our purposes, anyway - there are some weird exceptions.\n",
        "\n",
        "This can cause some awkwardness:\n",
        "\n",
        "e.g."
      ],
      "metadata": {
        "id": "IYUPoP38qTz2"
      }
    },
    {
      "cell_type": "code",
      "source": [
        "# I'll define a function, and inside that function I'll define some variables.\n",
        "\n",
        "def bananas(x,y,z):\n",
        "  variable1 = x + y\n",
        "  variable2 = y / z\n",
        "\n",
        "  return variable1 + variable2\n",
        "\n",
        "print(bananas(1,2,4))\n",
        "\n",
        "print(variable1)"
      ],
      "metadata": {
        "id": "uLv2bYw3sUFh",
        "outputId": "0e7aa128-b3fb-424a-98af-17102b7c970d",
        "colab": {
          "base_uri": "https://localhost:8080/",
          "height": 199
        }
      },
      "execution_count": null,
      "outputs": [
        {
          "output_type": "stream",
          "name": "stdout",
          "text": [
            "3.5\n"
          ]
        },
        {
          "output_type": "error",
          "ename": "NameError",
          "evalue": "name 'variable1' is not defined",
          "traceback": [
            "\u001b[0;31m---------------------------------------------------------------------------\u001b[0m",
            "\u001b[0;31mNameError\u001b[0m                                 Traceback (most recent call last)",
            "\u001b[0;32m<ipython-input-1-a8abb00d9083>\u001b[0m in \u001b[0;36m<cell line: 0>\u001b[0;34m()\u001b[0m\n\u001b[1;32m      9\u001b[0m \u001b[0mprint\u001b[0m\u001b[0;34m(\u001b[0m\u001b[0mbananas\u001b[0m\u001b[0;34m(\u001b[0m\u001b[0;36m1\u001b[0m\u001b[0;34m,\u001b[0m\u001b[0;36m2\u001b[0m\u001b[0;34m,\u001b[0m\u001b[0;36m4\u001b[0m\u001b[0;34m)\u001b[0m\u001b[0;34m)\u001b[0m\u001b[0;34m\u001b[0m\u001b[0;34m\u001b[0m\u001b[0m\n\u001b[1;32m     10\u001b[0m \u001b[0;34m\u001b[0m\u001b[0m\n\u001b[0;32m---> 11\u001b[0;31m \u001b[0mprint\u001b[0m\u001b[0;34m(\u001b[0m\u001b[0mvariable1\u001b[0m\u001b[0;34m)\u001b[0m\u001b[0;34m\u001b[0m\u001b[0;34m\u001b[0m\u001b[0m\n\u001b[0m",
            "\u001b[0;31mNameError\u001b[0m: name 'variable1' is not defined"
          ]
        }
      ]
    },
    {
      "cell_type": "markdown",
      "source": [
        "In the above example, we know that variable1 was defined - but it wasn't defined anywhere that `print` could see it.\n",
        "\n",
        "Even more awkwardly, the below can happen:"
      ],
      "metadata": {
        "id": "1mvqgMAUuCpf"
      }
    },
    {
      "cell_type": "code",
      "source": [
        "variable1 = 2\n",
        "\n",
        "def bananas(x,y,z):\n",
        "  variable1 = x + y\n",
        "  variable2 = y / z\n",
        "\n",
        "  return variable1 + variable2\n",
        "\n",
        "print(bananas(1,2,4))\n",
        "\n",
        "print(variable1)"
      ],
      "metadata": {
        "id": "m7tSzm56uSKH",
        "colab": {
          "base_uri": "https://localhost:8080/"
        },
        "outputId": "a434e6f7-60f3-42c1-affd-8fe8f202cc72"
      },
      "execution_count": 2,
      "outputs": [
        {
          "output_type": "stream",
          "name": "stdout",
          "text": [
            "3.5\n",
            "2\n"
          ]
        }
      ]
    },
    {
      "cell_type": "markdown",
      "source": [
        "Here, variable1 has been defined globally (outside a function, so `print` can see it) and set to 2. But our function also contains a variable1 locally, and has set it to 3.\n",
        "\n",
        "`print` sees only the variable1 that exists globally. It doesn't care what we've said about variable1 inside the function because it can't see in there, so python prints variable1 as 2.\n",
        "\n",
        "Avoid this confusion by using unique names for variables that are inside your functions.\n",
        "\n",
        "W3schools has a nice explanation of scope [here](https://www.w3schools.com/python/python_scope.asp)."
      ],
      "metadata": {
        "id": "e_v58WMCutnk"
      }
    },
    {
      "cell_type": "markdown",
      "source": [
        "### Errors in multiple lines?"
      ],
      "metadata": {
        "id": "87EkFnOvlTgQ"
      }
    },
    {
      "cell_type": "code",
      "source": [
        "def my_function():\n",
        "  a = 0\n",
        "  b = 1\n",
        "\n",
        "  return b/a\n",
        "\n",
        "print(\"hello world\")\n",
        "\n",
        "print(my_function())\n"
      ],
      "metadata": {
        "id": "-CkXmOD-laTO",
        "colab": {
          "base_uri": "https://localhost:8080/",
          "height": 325
        },
        "outputId": "20c24952-24f6-46d8-982d-b209fcbb5a2f"
      },
      "execution_count": 3,
      "outputs": [
        {
          "output_type": "stream",
          "name": "stdout",
          "text": [
            "hello world\n"
          ]
        },
        {
          "output_type": "error",
          "ename": "ZeroDivisionError",
          "evalue": "division by zero",
          "traceback": [
            "\u001b[0;31m---------------------------------------------------------------------------\u001b[0m",
            "\u001b[0;31mZeroDivisionError\u001b[0m                         Traceback (most recent call last)",
            "\u001b[0;32m<ipython-input-3-86247cba8ab6>\u001b[0m in \u001b[0;36m<cell line: 0>\u001b[0;34m()\u001b[0m\n\u001b[1;32m      7\u001b[0m \u001b[0mprint\u001b[0m\u001b[0;34m(\u001b[0m\u001b[0;34m\"hello world\"\u001b[0m\u001b[0;34m)\u001b[0m\u001b[0;34m\u001b[0m\u001b[0;34m\u001b[0m\u001b[0m\n\u001b[1;32m      8\u001b[0m \u001b[0;34m\u001b[0m\u001b[0m\n\u001b[0;32m----> 9\u001b[0;31m \u001b[0mprint\u001b[0m\u001b[0;34m(\u001b[0m\u001b[0mmy_function\u001b[0m\u001b[0;34m(\u001b[0m\u001b[0;34m)\u001b[0m\u001b[0;34m)\u001b[0m\u001b[0;34m\u001b[0m\u001b[0;34m\u001b[0m\u001b[0m\n\u001b[0m",
            "\u001b[0;32m<ipython-input-3-86247cba8ab6>\u001b[0m in \u001b[0;36mmy_function\u001b[0;34m()\u001b[0m\n\u001b[1;32m      3\u001b[0m   \u001b[0mb\u001b[0m \u001b[0;34m=\u001b[0m \u001b[0;36m1\u001b[0m\u001b[0;34m\u001b[0m\u001b[0;34m\u001b[0m\u001b[0m\n\u001b[1;32m      4\u001b[0m \u001b[0;34m\u001b[0m\u001b[0m\n\u001b[0;32m----> 5\u001b[0;31m   \u001b[0;32mreturn\u001b[0m \u001b[0mb\u001b[0m\u001b[0;34m/\u001b[0m\u001b[0ma\u001b[0m\u001b[0;34m\u001b[0m\u001b[0;34m\u001b[0m\u001b[0m\n\u001b[0m\u001b[1;32m      6\u001b[0m \u001b[0;34m\u001b[0m\u001b[0m\n\u001b[1;32m      7\u001b[0m \u001b[0mprint\u001b[0m\u001b[0;34m(\u001b[0m\u001b[0;34m\"hello world\"\u001b[0m\u001b[0;34m)\u001b[0m\u001b[0;34m\u001b[0m\u001b[0;34m\u001b[0m\u001b[0m\n",
            "\u001b[0;31mZeroDivisionError\u001b[0m: division by zero"
          ]
        }
      ]
    },
    {
      "cell_type": "markdown",
      "source": [
        "The `ZeroDivisionError` appears twice: once in the function where the problem actually is, and again in the line where the function was called.\n",
        "\n",
        "Reading errors from last to first can make it clearer where the error actually comes from."
      ],
      "metadata": {
        "id": "BmHwosGAmMiM"
      }
    },
    {
      "cell_type": "markdown",
      "source": [
        "Challenge: Can you define a function that finds the surface area of a cuboid?"
      ],
      "metadata": {
        "id": "TuZfggkQnW0N"
      }
    },
    {
      "cell_type": "code",
      "source": [
        "# Define your function here:\n",
        "\n",
        "\n",
        "# Then print some output values for some differently shaped cuboids."
      ],
      "metadata": {
        "id": "BPHrJ7LSngAS"
      },
      "execution_count": null,
      "outputs": []
    },
    {
      "cell_type": "markdown",
      "source": [
        "## 7. Imported Goods (Using Libraries)\n",
        "\n",
        "\n"
      ],
      "metadata": {
        "id": "d8iIvud5cBRk"
      }
    },
    {
      "cell_type": "markdown",
      "source": [
        "Functions are really useful, as we have learned. Even more usefully, we often don't even have to write them ourselves!\n",
        "\n",
        "Loads of problems exist that have already been solved. You don't have to reinvent the wheel - for common needs, such as \"find the square root\" or \"find the standard deviation\", libraries exist that we can import. Then, we can call functions that have conveniently already been written for us.\n",
        "\n",
        "In the workshop, you used the numpy and matplotlib libraries to call functions that were needed to make the pretty graphs.\n",
        "\n",
        "The documentation for Numpy and for Matplotlib is quite helpful - see links below:\n",
        "\n",
        "- [NumPy](https://numpy.org/doc/stable/)\n",
        "- [Matplotlib](https://matplotlib.org/stable/users/index)\n"
      ],
      "metadata": {
        "id": "JSTtdGrkqzVq"
      }
    },
    {
      "cell_type": "code",
      "source": [
        "# Convert y to ln(y)\n",
        "y = np.log(y)"
      ],
      "metadata": {
        "id": "Y-cQZVUaxqNX"
      },
      "execution_count": null,
      "outputs": []
    },
    {
      "cell_type": "code",
      "source": [
        " # Create the figure\n",
        "fig = plt.figure()\n",
        "    # Create the \"Axes\", which contains information for the graph\n",
        "ax = plt.axes()"
      ],
      "metadata": {
        "id": "hXFHgmsyx3NI"
      },
      "execution_count": null,
      "outputs": []
    },
    {
      "cell_type": "markdown",
      "source": [
        "### Numpy\n",
        "\n",
        "NumPy (\"numb-pie\", short for \"Numerical Python\") is a useful library for mathematical functions, as well as for arrays (which will be covered later). We import NumPy as follows:"
      ],
      "metadata": {
        "id": "bt5GZzy1InPt"
      }
    },
    {
      "cell_type": "code",
      "source": [
        "import numpy as np\n",
        "\n",
        "# Now we can call the functions in the NumPy library using np as shorthand.\n",
        "# There's no obligation to call it np, it's just common practice."
      ],
      "metadata": {
        "id": "W0QdjnjXJFIt"
      },
      "execution_count": null,
      "outputs": []
    },
    {
      "cell_type": "markdown",
      "source": [
        "And then we can call functions from the library:"
      ],
      "metadata": {
        "id": "rx82Vpv_JpGv"
      }
    },
    {
      "cell_type": "code",
      "source": [
        "# I import NumPy\n",
        "\n",
        "import numpy as np\n",
        "\n",
        "# And now I can use all sorts of functions and values stored in the library.\n",
        "\n",
        "x = np.pi\n",
        "print(x)\n",
        "\n",
        "y = np.log(np.e)\n",
        "print(y)\n",
        "\n",
        "H = 0.01\n",
        "pH = -(np.log10(H))\n",
        "print(pH)\n",
        "\n",
        "z = np.sin(0.5*np.pi)\n",
        "print(z)\n",
        "\n",
        "a = 4\n",
        "print(np.sqrt(a))"
      ],
      "metadata": {
        "id": "Fv2ZDlUDJyY9"
      },
      "execution_count": null,
      "outputs": []
    },
    {
      "cell_type": "markdown",
      "source": [
        "### Matplotlib\n",
        "\n",
        "You used matplotlib to produce your plots in the workshop. We can `import matplotlib.pyplot` (pyplot is a submodule which contains the useful bits for our purposes) in the same way as we imported NumPy above:"
      ],
      "metadata": {
        "id": "IEy1ZIxeMsCv"
      }
    },
    {
      "cell_type": "code",
      "source": [
        "import matplotlib.pyplot as plt\n",
        "import numpy as np\n",
        "\n",
        "# See if you can guess what the plot will look like...\n",
        "\n",
        "x = range(0,101)\n",
        "y = np.sqrt(x)\n",
        "\n",
        "plt.plot(x,y)\n",
        "plt.show()"
      ],
      "metadata": {
        "id": "Gk7n2Hs5NIbV"
      },
      "execution_count": null,
      "outputs": []
    },
    {
      "cell_type": "markdown",
      "source": [
        "Above, I:\n",
        "\n",
        "- Imported all the libraries I needed using `import`\n",
        "- Set two variables x and y to some array of values\n",
        "- Plotted the graph using the `plt.plot()` function\n",
        "- Displayed the plotted graph using the `plt.show()` function."
      ],
      "metadata": {
        "id": "BYw1G8f_OywV"
      }
    },
    {
      "cell_type": "markdown",
      "source": [
        "y and x don't have to be interdependent. `plt.plot()` will take two arrays of values and build the graph:"
      ],
      "metadata": {
        "id": "z-Y9EJm0PzhK"
      }
    },
    {
      "cell_type": "code",
      "source": [
        "import matplotlib.pyplot as plt\n",
        "import numpy as np\n",
        "\n",
        "\n",
        "x = [1,2,8,3,5,6,2]\n",
        "y = [4,7,2,8,3,7,9]\n",
        "\n",
        "plt.plot(x,y)\n",
        "plt.show()"
      ],
      "metadata": {
        "id": "XvLhO81tQJKz"
      },
      "execution_count": null,
      "outputs": []
    },
    {
      "cell_type": "markdown",
      "source": [
        "The line travels from (1,4) to (2,7) to (8,2) and so on."
      ],
      "metadata": {
        "id": "j6JgKroPQr3E"
      }
    },
    {
      "cell_type": "markdown",
      "source": [
        "Challenge: Using the documentation linked above, can you make the following changes to my plot? (I've pasted it below.)\n",
        "\n",
        "- change the plot to a graph of a different mathematical function\n",
        "- add axis labels to the plot\n",
        "- Plot a scatter graph instead of a line graph"
      ],
      "metadata": {
        "id": "J3yyGtmBQ3rH"
      }
    },
    {
      "cell_type": "code",
      "source": [
        "import matplotlib.pyplot as plt\n",
        "import numpy as np\n",
        "\n",
        "x = range(0,101)\n",
        "y = np.sqrt(x)\n",
        "\n",
        "plt.plot(x,y)\n",
        "plt.show()"
      ],
      "metadata": {
        "id": "NQV8ts5yAoQ-"
      },
      "execution_count": null,
      "outputs": []
    },
    {
      "cell_type": "markdown",
      "source": [
        "## 8. All Set? (Lists)"
      ],
      "metadata": {
        "id": "tbEa9RXP4HVg"
      }
    },
    {
      "cell_type": "markdown",
      "source": [
        "A `list` is a sequence where each item (\"element\") in the list can be any data type. The sequence goes in square brackets and elements are separated by commas. Duplicates are allowed (i.e. the same value or string can appear twice in the list).\n",
        "  \n",
        "  A list could be all strings: e.g. `mybreakfast = [\"fried eggs\", \"toast\", \"beans\"]`\n",
        "\n",
        "  Or all floats: e.g. `relative_atomic_masses = [1.01, 4.01, 6.94, 9.01, 10.81]`\n",
        "\n",
        "  Or a mixture of different data types: e.g. `x = [1, \"two\", 3.0, False, 3.0, False]`."
      ],
      "metadata": {
        "id": "mg7FMcNXe7a-"
      }
    },
    {
      "cell_type": "markdown",
      "source": [
        "You can check the contents of a list using the `print` function as per usual, and the `len()` function (len for length!) to work out the number of elements in a list:"
      ],
      "metadata": {
        "id": "UndpWU57qSYU"
      }
    },
    {
      "cell_type": "code",
      "source": [
        "# I'll define my list in the same way I define any other variable:\n",
        "\n",
        "mylist = [1, 2, 3, 4, 5] # Remembering square brackets!\n",
        "\n",
        "# I'll print the list:\n",
        "\n",
        "print(mylist)\n",
        "\n",
        "# And then I'll print the output of the len() function:\n",
        "\n",
        "print(len(mylist))"
      ],
      "metadata": {
        "id": "mRqoBPBJ-Y8K"
      },
      "execution_count": null,
      "outputs": []
    },
    {
      "cell_type": "markdown",
      "source": [
        "### All in order?"
      ],
      "metadata": {
        "id": "SZgob4Lg_1YH"
      }
    },
    {
      "cell_type": "markdown",
      "source": [
        "Items in a list are indexed positively starting at 0:\n",
        "\n",
        "e.g. If I define a list `2nd_period_elements = [\"Li\", \"Na\", \"B\", \"C\", \"N\"]`, the items in this list are indexed as follows:\n",
        "\n",
        "| Index | 0 | 1 | 2 | 3 | 4 |\n",
        "|-------|---|---|---|---|---|\n",
        "| Item |Li | Na | B | C | N |\n",
        "\n",
        "This is positive indexing.\n",
        "\n",
        "I can also index items in my list backwards, starting from the -1 at the end of the list.\n",
        "\n",
        "| Index | -5 | -4 | -3 | -2 | -1 |\n",
        "|-------|---|---|---|---|---|\n",
        "| Item | Li | Na | B | C | N |\n",
        "\n",
        "This is negative indexing.\n",
        "\n",
        "This is useful because we refer to index numbers when we want to access or change elements of a list.\n",
        "\n",
        "e.g. Accessing elements of a list:"
      ],
      "metadata": {
        "id": "Bi9HBbhJeZ-u"
      }
    },
    {
      "cell_type": "code",
      "source": [
        "# See if you can predict what will be printed when you run this code:\n",
        "\n",
        "my_list = [1, 2, 3, 4, 5, 6, 7, 8, 9]\n",
        "\n",
        "print(my_list[0])\n",
        "\n",
        "print(my_list[4])\n",
        "\n",
        "print(my_list[-2], my_list[1])"
      ],
      "metadata": {
        "id": "ichSS7eA3GwZ"
      },
      "execution_count": null,
      "outputs": []
    },
    {
      "cell_type": "markdown",
      "source": [
        "### List Slicing"
      ],
      "metadata": {
        "id": "ZvSYrcdo69b7"
      }
    },
    {
      "cell_type": "markdown",
      "source": [
        "Cool, so I can access individual elements of a list, or to access the whole thing. But what if I wanted to print only the even indices of the list? Or one element in every three? Or just the items between the 3rd and the 5th index?\n",
        "\n",
        "List slicing is a useful tool for problem-solving. It allows us to access chosen elements in the list.\n",
        "\n",
        "The syntax looks like this:\n",
        "\n",
        "`List[ Initial : End : IndexJump ]`\n",
        "\n",
        "What that actually means is \"show me the elements in `List` between `Initial` and `End`, with stepsize `IndexJump`.\n",
        "\n",
        "Note: This includes `Initial` but excludes `End`.\n"
      ],
      "metadata": {
        "id": "V7fkOd7B2RTk"
      }
    },
    {
      "cell_type": "markdown",
      "source": [
        "You've seen this before in the workshop: **(These snippets won't run, they're missing loads of context)**"
      ],
      "metadata": {
        "id": "iSoSPsuZNqgr"
      }
    },
    {
      "cell_type": "code",
      "source": [
        "# The first argument is always the name of the program; we will remove it\n",
        "args = argv[1:]"
      ],
      "metadata": {
        "id": "SD9lSHolNs8Y"
      },
      "execution_count": null,
      "outputs": []
    },
    {
      "cell_type": "code",
      "source": [
        " # If the filename is not a csv file, it will be skipped\n",
        "\n",
        "if fname[-4:] != '.csv': continue"
      ],
      "metadata": {
        "id": "YV74ojE1ODfT"
      },
      "execution_count": null,
      "outputs": []
    },
    {
      "cell_type": "markdown",
      "source": [
        "Here's a wordier example:"
      ],
      "metadata": {
        "id": "y2mHOJVlOjBq"
      }
    },
    {
      "cell_type": "code",
      "source": [
        "# I'll define a list that's full of strings, so they don't get confused between the indices and the numerical values of elements to start with.\n",
        "\n",
        "Barbeque = [\"Burgers\", \"Hotdogs\", \"Buns\", \"Cheese\", \"Potato Salad\", \"Lettuce\", \"Tomatoes\", \"Lemonade\", \"Ice Cream\"]\n",
        "\n",
        "# See if you can predict what'll be printed:\n",
        "\n",
        "print(Barbeque[0:8:1])\n",
        "\n",
        "print(Barbeque[0:9:2])"
      ],
      "metadata": {
        "id": "eCekJcUr95gH"
      },
      "execution_count": null,
      "outputs": []
    },
    {
      "cell_type": "markdown",
      "source": [
        "We don't have to bother filling in a value for `Initial`, `End`, and `IndexJump`: It's allowed to leave them blank.\n",
        "\n",
        "Challenge: See if you can work out the default values for `Initial`, `End`, and `IndexJump`. Fill them into the notebook here by double-clicking this cell.\n",
        "\n",
        "- Initial -\n",
        "- End -\n",
        "- IndexJump -\n",
        "\n",
        "What happens if you try and print my_list[ x : y ] (where x and y are non-negative integers), or my_list[ : : ]?"
      ],
      "metadata": {
        "id": "aVgVJU-PEhtM"
      }
    },
    {
      "cell_type": "code",
      "source": [
        "# Use this cell to do your workings-out. I've defined a list below which you can use for your thinking, if you wish.\n",
        "\n",
        "my_list = [0, 1, 2, 3, 4, 5, 6, 7, 8, 9]\n",
        "\n",
        "print(my_list)\n"
      ],
      "metadata": {
        "id": "N0puQgiQFqH5"
      },
      "execution_count": null,
      "outputs": []
    },
    {
      "cell_type": "markdown",
      "source": [
        "### Making Changes\n",
        "\n"
      ],
      "metadata": {
        "id": "tMjh6MuKI-Vq"
      }
    },
    {
      "cell_type": "markdown",
      "source": [
        "We can change list items by referring to their index value:"
      ],
      "metadata": {
        "id": "vpcngxCSFuZ2"
      }
    },
    {
      "cell_type": "code",
      "source": [
        "weather = [\"Rainy\", \"Sunny\", \"Cloudy\", \"Rainbow\"]\n",
        "\n",
        "print(weather)\n",
        "\n",
        "weather[2] = \"Windy\" # This should change the element with index [2] to \"Windy\"\n",
        "\n",
        "print(weather)"
      ],
      "metadata": {
        "id": "241vrN5JwClT"
      },
      "execution_count": null,
      "outputs": []
    },
    {
      "cell_type": "markdown",
      "source": [
        "We can extend this to use our new slicing abilities to change multiple list items at once:"
      ],
      "metadata": {
        "id": "w09Sq8sdxFEt"
      }
    },
    {
      "cell_type": "code",
      "source": [
        "# I define a list\n",
        "weather = [\"Rainy\", \"Sunny\", \"Cloudy\", \"Rainbow\"]\n",
        "\n",
        "print(weather)\n",
        "\n",
        "# Now I replace two list items using slicing. 0 is included in the range I'm describing, but 2 isn't\n",
        "weather[0:2] = [\"Hot\", \"Cold\"]\n",
        "\n",
        "# Let's see if it worked!\n",
        "print(weather)"
      ],
      "metadata": {
        "id": "0ANLj7pOxQrq"
      },
      "execution_count": null,
      "outputs": []
    },
    {
      "cell_type": "markdown",
      "source": [
        "We can add more items to our list in a few ways:\n",
        "\n",
        "- `append()` appends an item onto the end of the list\n",
        "- `insert()` inserts an item into the specified position in the list\n",
        "- `extend()` appends all the items in another list onto the end of our list"
      ],
      "metadata": {
        "id": "wQDeRidCyZUV"
      }
    },
    {
      "cell_type": "markdown",
      "source": [
        "Challenge: Complete the following tasks by researching how to use `append()`, `insert()`, and `extend()` on lists.\n",
        "\n",
        "You might want to Google how to use these particular functions.\n",
        "\n",
        "Feel free to add your own notes to this cell when you've done your discovering."
      ],
      "metadata": {
        "id": "50EfXg6s07mx"
      }
    },
    {
      "cell_type": "code",
      "source": [
        "# 1: Append \"hamster\" onto the end of my pets list, and then print the list.\n",
        "\n",
        "pets = [\"dog\", \"cat\", \"fish\"]\n",
        "\n"
      ],
      "metadata": {
        "id": "yUxokb7K2TkK"
      },
      "execution_count": null,
      "outputs": []
    },
    {
      "cell_type": "code",
      "source": [
        "# 2: Insert your own feeling into the \"feelings\" list below, so that it is the third item in the list. Then print the list.\n",
        "\n",
        "feelings = [\"Sad\", \"Happy\", \"Angry\", \"Curious\"]\n",
        "\n"
      ],
      "metadata": {
        "id": "RmY-fjCR4htv"
      },
      "execution_count": null,
      "outputs": []
    },
    {
      "cell_type": "code",
      "source": [
        "# 3: Here are two lists. Use extend() to append the contents of list2 onto the end of list1. Then print the new list1 and list2.\n",
        "\n",
        "list1 = [1,2,3,4]\n",
        "list2 = [5,6,7,8]\n",
        "\n",
        "# Can you think of any other way to do the same thing? Hint: Where have you seen the word \"concatenate\" before, and is that happening here?"
      ],
      "metadata": {
        "id": "_faeB2Se6VNb"
      },
      "execution_count": null,
      "outputs": []
    },
    {
      "cell_type": "markdown",
      "source": [
        "You saw this in the workshop: **(This code won't work)**"
      ],
      "metadata": {
        "id": "QD7ARgA4OzZF"
      }
    },
    {
      "cell_type": "code",
      "source": [
        "# Add the name of each file we will process to a list\n",
        "    if output: data_fnames.append(fname)"
      ],
      "metadata": {
        "id": "ilMqYJs6O3HT"
      },
      "execution_count": null,
      "outputs": []
    },
    {
      "cell_type": "code",
      "source": [
        "if output: fit_data.append(p)"
      ],
      "metadata": {
        "id": "B3UD-jKPO8Is"
      },
      "execution_count": null,
      "outputs": []
    },
    {
      "cell_type": "markdown",
      "source": [
        "### Get rid!"
      ],
      "metadata": {
        "id": "r3AgQNgM9bch"
      }
    },
    {
      "cell_type": "markdown",
      "source": [
        "There's also a few ways to remove elements from lists:\n",
        "\n",
        "- `remove()` removes the first instance of the item you put in the brackets.\n",
        "\n",
        "  e.g. `list.remove(\"potatoes\")`\n",
        "\n",
        "- `del` deletes a specified item from the list, or deletes the entire list.\n",
        "\n",
        "  e.g. `del list[1]` or just `del list` to delete list\n",
        "\n",
        "\n",
        "An example below:"
      ],
      "metadata": {
        "id": "raj72d1vFGXP"
      }
    },
    {
      "cell_type": "code",
      "source": [
        "# First, I'll define a list.\n",
        "\n",
        "my_list = [1.4, \"France\", 3, True, True, \"carrots\", \"Germany\"]\n",
        "\n",
        "# I'm going to slowly destroy my list.\n",
        "\n",
        "my_list.remove(True) # Remove the first instance of True from my list\n",
        "print(my_list)\n",
        "\n",
        "del my_list[3] # I want to delete the 4th item in the list\n",
        "print(my_list)\n",
        "\n",
        "del my_list[0:6]\n",
        "print(my_list) # What happens if we ask python to print an empty list?\n",
        "\n",
        "del my_list # This should delete my_list entirely\n",
        "print(my_list) # What error do you think will come up here?\n"
      ],
      "metadata": {
        "id": "UpMOzMIfGGYc"
      },
      "execution_count": null,
      "outputs": []
    },
    {
      "cell_type": "markdown",
      "source": [
        "### Are you in there?\n"
      ],
      "metadata": {
        "id": "TCUAm1-PWsyh"
      }
    },
    {
      "cell_type": "markdown",
      "source": [
        "We can use `if` statements to test whether lists contain a certain element, using `in`.\n",
        "\n",
        "`in` iterates over a list or string and checks whether the string or character you gave is in there. `not in` works similarly.\n",
        "\n",
        "e.g. Let's try the weather problem again!"
      ],
      "metadata": {
        "id": "Dswt71flezOp"
      }
    },
    {
      "cell_type": "code",
      "source": [
        "# I'll define a list where each element is something in today's weather forecast.\n",
        "\n",
        "forecast = [\"wind\", \"rain\", \"sun\"]\n",
        "\n",
        "if \"sun\" in forecast:\n",
        "  print(\"bring sunscreen!\")\n",
        "else:\n",
        "  print(\"try and make the best of a grey day...\")\n",
        "\n",
        "if \"rain\" or \"wind\" in forecast:\n",
        "  print(\"bring a jacket!\")\n",
        "else:\n",
        "  print(\"you should be alright without a jacket.\")\n"
      ],
      "metadata": {
        "id": "jpFz7XMNXV-A"
      },
      "execution_count": null,
      "outputs": []
    },
    {
      "cell_type": "markdown",
      "source": [
        "## 9. List-ception (Arrays)"
      ],
      "metadata": {
        "id": "i5kLoTLhfmMV"
      }
    },
    {
      "cell_type": "markdown",
      "source": [
        "An array is a data structure with elements in. So the lists we were just talking about are a type of array.\n",
        "\n",
        "- A zero-dimensional (0-D) array is just one value.\n",
        "\n",
        "  e.g. [1]\n",
        "\n",
        "- Arrays can be one-dimensional (1-D), so just like a list.\n",
        "\n",
        "  e.g. [1, 2, 3, 4, 5]\n",
        "\n",
        "Python is funky because it doesn't support arrays nicely until you use NumPy. Below shows how to use NumPy to create arrays.\n",
        "\n",
        "Arrays can also be multi-dimensional. The most relevant multi-dimensional arroay for us is two-dimensional arrays. They can be thought of as like matrices. (foreshadowing for next year!)\n",
        "\n",
        "- A 2-D array is a nested list, where each of its elements is an 1-D array.\n",
        "\n",
        "  e.g. [[1,2,3], [4,5,6]]\n",
        "\n",
        "  which prints like this:\n",
        "\n",
        "  [[1 2 3]\n",
        "\n",
        "  [4 5 6]].\n",
        "\n",
        "An example below:"
      ],
      "metadata": {
        "id": "upZL-tiRv8uP"
      }
    },
    {
      "cell_type": "code",
      "source": [
        "# I'll start by importing NumPy\n",
        "\n",
        "import numpy as np\n",
        "\n",
        "# In numpy, we can use the np.array() function to create an object called an ndarray (\"n-dimensional array\").\n",
        "\n",
        "my_array = np.array([1,2,3,4])\n",
        "\n",
        "print(my_array)\n"
      ],
      "metadata": {
        "id": "3gxdwnxQwF9t"
      },
      "execution_count": null,
      "outputs": []
    },
    {
      "cell_type": "code",
      "source": [
        "# Let's go for a 2-D array.\n",
        "\n",
        "import numpy as np\n",
        "\n",
        "my_matrix = np.array([[1,2,3],[2,3,4],[8,9,10]])\n",
        "\n",
        "print(my_matrix)"
      ],
      "metadata": {
        "id": "VDEBfWZh0SzO"
      },
      "execution_count": null,
      "outputs": []
    },
    {
      "cell_type": "markdown",
      "source": [],
      "metadata": {
        "id": "bJ9HS9MOdo-I"
      }
    },
    {
      "cell_type": "markdown",
      "source": [
        "Add averages along each axis"
      ],
      "metadata": {
        "id": "EaEVoMuxq7I1"
      }
    },
    {
      "cell_type": "markdown",
      "source": [
        "Add loading array from csv."
      ],
      "metadata": {
        "id": "7aIJlRY9rBTg"
      }
    },
    {
      "cell_type": "markdown",
      "source": [
        "### Loading data from files\n",
        "\n",
        "We can load external data into our program so that we can process it. You did this in your workshop: **(This code won't work)**"
      ],
      "metadata": {
        "id": "1VKTy8Pid5Nf"
      }
    },
    {
      "cell_type": "code",
      "source": [
        "# Load the x and y data from the csv file. Note that the column indexes start from 0, not 1.\n",
        "    try:\n",
        "        data = np.loadtxt(fname,delimiter=\",\",skiprows=1)\n",
        "    except:\n",
        "        print(\"Could not process file\",fname,\". This is probably because it contains text outside of the header line. It has been skipped.\")\n",
        "        continue\n",
        "    x = data[:,0]\n",
        "    y = data[:,1]"
      ],
      "metadata": {
        "id": "LpPaWb9dd-VI"
      },
      "execution_count": null,
      "outputs": []
    },
    {
      "cell_type": "markdown",
      "source": [
        "Let's break that down.\n",
        "\n",
        "`data = np.loadtxt(filename)` sets a variable `data` to contain all the information contained in `filename`.\n",
        "\n",
        "e.g:"
      ],
      "metadata": {
        "id": "tUyMHmygeHqY"
      }
    },
    {
      "cell_type": "code",
      "source": [
        "import numpy as np\n",
        "\n",
        "fruits = np.loadtxt('https://raw.githubusercontent.com/alanmlewis/ProgrammingforChem/main/fruits.txt',dtype='str')\n",
        "\n",
        "print(fruits)"
      ],
      "metadata": {
        "id": "VkQJZZVaeNns"
      },
      "execution_count": null,
      "outputs": []
    },
    {
      "cell_type": "markdown",
      "source": [
        "A .csv file (csv for \"comma separated value\") does what it says on the tin: loads of values, all separated by commas. The data is also separated line by line.\n",
        "\n",
        "We can load .csv files which contain rows of data in two columns (so a 2-D array), then use pyplot to plot the data:"
      ],
      "metadata": {
        "id": "aTpYfnDuebIO"
      }
    },
    {
      "cell_type": "code",
      "source": [
        "import numpy as np\n",
        "import matplotlib.pyplot as plt\n",
        "\n",
        "my_data = np.loadtxt(\"https://raw.githubusercontent.com/alanmlewis/ProgrammingforChem/main/dataset.txt\")\n",
        "print(my_data)\n",
        "\n",
        "x = my_data[:,0]\n",
        "y = my_data[:,1]\n",
        "\n",
        "print(x)\n",
        "print(y)\n",
        "\n",
        "plt.plot(x,y)\n",
        "plt.show()"
      ],
      "metadata": {
        "id": "hcinZqktfJYl"
      },
      "execution_count": null,
      "outputs": []
    },
    {
      "cell_type": "markdown",
      "source": [
        "Challenge: Here is a [link](https://raw.githubusercontent.com/alanmlewis/ProgrammingforChem/main/matrix.txt) to a .csv file containing a 2-D array. Can you:\n",
        "\n",
        "- read the data from the .csv,\n",
        "- print the array,\n",
        "- use the NumPy documentation to calculate and print the averages along each axis of the array?\n",
        "\n"
      ],
      "metadata": {
        "id": "H7LcCQQyiDgi"
      }
    },
    {
      "cell_type": "code",
      "source": [],
      "metadata": {
        "id": "ytQsK5ABi6Hs"
      },
      "execution_count": null,
      "outputs": []
    },
    {
      "cell_type": "markdown",
      "source": [
        "## 10. Again?! (Iterating using For loops)"
      ],
      "metadata": {
        "id": "Y_3lZcRh9ZFT"
      }
    },
    {
      "cell_type": "markdown",
      "source": [
        "It can often be useful to write programs that do the same action, again and again, on items in a sequence. I might like to go through all the items in a list of my lab measurements and see if any of them are really different from the average, or simply print \"hello!\" 20 times. `for` loops are a way to do this.\n",
        "\n",
        "`for` loops go through (\"iterate over\") each element in a list (or other iterable object) and do an instruction on each element.\n",
        "\n",
        "Iterable objects include lists, ranges, and strings (among other stuff).\n",
        "\n",
        "E.g."
      ],
      "metadata": {
        "id": "eS9JR-Bcq9wg"
      }
    },
    {
      "cell_type": "code",
      "source": [
        "# I'll define a list:\n",
        "\n",
        "ingredients = [\"eggs\", \"butter\", \"milk\", \"sugar\", \"flour\", \"vanilla\"]\n",
        "\n",
        "# Then I'll print each of the items individually using a \"for\" loop.\n",
        "\n",
        "for x in ingredients:\n",
        "  print(x)\n"
      ],
      "metadata": {
        "id": "RxbJ9cOtIzyl"
      },
      "execution_count": null,
      "outputs": []
    },
    {
      "cell_type": "code",
      "source": [
        "# I want to print only the even numbers in a given list.\n",
        "\n",
        "# First, I'll define the list.\n",
        "numbers = [1,2,5,7,3,12,19]\n",
        "\n",
        "# Then, I construct my \"for\" loop:\n",
        "for i in numbers:\n",
        "  if i%2 == 0:\n",
        "    print(i)"
      ],
      "metadata": {
        "id": "MExuIo4Q8KGZ"
      },
      "execution_count": null,
      "outputs": []
    },
    {
      "cell_type": "markdown",
      "source": [
        "For each item in this list, our `for` loop does our instruction (\"check if the number is divisible by 2, and if it is then print it\"). It then moves onto the next item of the list until it has iterated over all of the items."
      ],
      "metadata": {
        "id": "M8lHOVT18QlM"
      }
    },
    {
      "cell_type": "markdown",
      "source": [
        "### range()"
      ],
      "metadata": {
        "id": "IYVVM7EgPtMj"
      }
    },
    {
      "cell_type": "markdown",
      "source": [
        "We can use the `range()` function to loop over numbers in a range, too. As before, the end value for your range isn't included!\n",
        "\n",
        "e.g."
      ],
      "metadata": {
        "id": "7Qt-MxV_NQII"
      }
    },
    {
      "cell_type": "code",
      "source": [
        "# I'll use the range() function to produce a sequence of integers, starting at 0 by default.\n",
        "# Can you predict what will be printed?\n",
        "\n",
        "for i in range(5):\n",
        "  print(i)"
      ],
      "metadata": {
        "id": "MK7c9ds4NFcO"
      },
      "execution_count": null,
      "outputs": []
    },
    {
      "cell_type": "code",
      "source": [
        "for j in range(3,6):\n",
        "  print(j)"
      ],
      "metadata": {
        "id": "s2HgCAmGP6aj"
      },
      "execution_count": null,
      "outputs": []
    },
    {
      "cell_type": "code",
      "source": [
        "for variable in range(0,16,3):\n",
        "  print(variable)"
      ],
      "metadata": {
        "id": "RAqzgIZtP-MN"
      },
      "execution_count": null,
      "outputs": []
    },
    {
      "cell_type": "markdown",
      "source": [
        "### Comparing lists"
      ],
      "metadata": {
        "id": "CCrIG7tSP19h"
      }
    },
    {
      "cell_type": "markdown",
      "source": [
        "`for` loops can be a useful tool for comparing lists and making new ones. I might want to take a list of items and only print those that contain an \"a\", or to compare the contents of my fridge to my shopping list.\n",
        "\n",
        "e.g."
      ],
      "metadata": {
        "id": "u81FNDBPPk9H"
      }
    },
    {
      "cell_type": "code",
      "source": [
        "# I know what the days of the week are, but when are weekends?\n",
        "\n",
        "days = [\"Mon\", \"Tue\", \"Wed\", \"Thu\", \"Fri\", \"Sat\", \"Sun\"]\n",
        "\n",
        "weekend = [\"Sat\", \"Sun\"]\n",
        "\n",
        "weekdays = []\n",
        "\n",
        "for x in days:\n",
        "  if x not in weekend:\n",
        "    weekdays.append(x)\n",
        "\n",
        "print(weekdays)\n",
        "\n",
        "\n"
      ],
      "metadata": {
        "id": "5sxjqno6R3hv"
      },
      "execution_count": null,
      "outputs": []
    },
    {
      "cell_type": "markdown",
      "source": [
        "### Break and Continue"
      ],
      "metadata": {
        "id": "vOTBoSMRR2kI"
      }
    },
    {
      "cell_type": "markdown",
      "source": [
        "We may want to exit the loop before it's finished iterating through all the items, or to force the loop to move onto the next item.\n",
        "\n",
        "This is what `break` and `continue` are for:\n",
        "\n",
        "e.g."
      ],
      "metadata": {
        "id": "Qd8iAykKTt_f"
      }
    },
    {
      "cell_type": "code",
      "source": [
        "# Breaking out of loops is important if they might go on for ages:\n",
        "\n",
        "for i in range(999999999999999999999999999):\n",
        "\n",
        "  if i <= 6:\n",
        "    print(i)\n",
        "\n",
        "  else:\n",
        "    break"
      ],
      "metadata": {
        "id": "zxFj9OJ6VdWN"
      },
      "execution_count": null,
      "outputs": []
    },
    {
      "cell_type": "code",
      "source": [
        "# I might like to print all the items in my list, except those that have the letter \"r\" in them:\n",
        "\n",
        "ingredients = [\"eggs\", \"butter\", \"milk\", \"sugar\", \"flour\", \"vanilla\"]\n",
        "\n",
        "for i in ingredients:\n",
        "  if \"r\" in i:\n",
        "    continue\n",
        "  print(i)\n",
        "\n",
        "# Strings are iterable, so \"in\" and \"not in\" work for them."
      ],
      "metadata": {
        "id": "NhE1nvtSUFO-"
      },
      "execution_count": null,
      "outputs": []
    },
    {
      "cell_type": "markdown",
      "source": [
        "You've seen `continue` in the workshop. Can you find out what `try` and `except` are used for in the snippet below? **(This code won't work)**"
      ],
      "metadata": {
        "id": "GJQHulsVPMx9"
      }
    },
    {
      "cell_type": "code",
      "source": [
        "# We will create a plot from every csv file passed to the program\n",
        "for fname in args:\n",
        "    # If the filename is not a csv file, it will be skipped\n",
        "    if fname[-4:] != '.csv': continue\n",
        "\n",
        "    # Load the x and y data from the csv file. Note that the column indexes start from 0, not 1.\n",
        "    try:\n",
        "        data = np.loadtxt(fname,delimiter=\",\",skiprows=1)\n",
        "    except:\n",
        "        print(\"Could not process file\",fname,\". This is probably because it contains text outside of the header line. It has been skipped.\")\n",
        "        continue\n",
        "    x = data[:,0]\n",
        "    y = data[:,1]"
      ],
      "metadata": {
        "id": "gqdZDZh1PbdL"
      },
      "execution_count": null,
      "outputs": []
    },
    {
      "cell_type": "markdown",
      "source": [
        "Challenge: What is a `while` loop? Research `while` loops and write your learnings below. Then, can you add comments into my code below to explain what's happening?\n",
        "\n",
        "Your explanation of `while` loops here:"
      ],
      "metadata": {
        "id": "Nha0Ekj-ZkBj"
      }
    },
    {
      "cell_type": "code",
      "source": [
        "i = 1\n",
        "\n",
        "while True:\n",
        "  print(i)\n",
        "  i = i+1\n",
        "\n",
        "  if i >= 12:\n",
        "    break"
      ],
      "metadata": {
        "id": "Ijpu62QUZ2R0"
      },
      "execution_count": null,
      "outputs": []
    }
  ]
}